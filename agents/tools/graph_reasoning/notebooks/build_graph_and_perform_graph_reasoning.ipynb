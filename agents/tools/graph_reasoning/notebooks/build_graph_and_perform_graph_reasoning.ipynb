{
 "cells": [
  {
   "cell_type": "code",
   "execution_count": 0,
   "metadata": {
    "application/vnd.databricks.v1+cell": {
     "cellMetadata": {
      "byteLimit": 2048000,
      "rowLimit": 10000
     },
     "inputWidgets": {},
     "nuid": "15a87012-e550-4554-9d40-07ea67964b31",
     "showTitle": false,
     "tableResultSettingsMap": {},
     "title": ""
    }
   },
   "outputs": [],
   "source": [
    "import os\n",
    "import sys\n",
    "\n",
    "import networkx as nx\n",
    "from GraphReasoning import (\n",
    "    AutoModel,\n",
    "    AutoTokenizer,\n",
    "    find_path_and_reason,\n",
    "    generate_node_embeddings,\n",
    "    load_embeddings,\n",
    "    make_graph_from_text,\n",
    "    save_embeddings,\n",
    ")\n",
    "from IPython.display import Markdown, display\n",
    "from openai import OpenAI\n",
    "\n",
    "from core.constants import LLMConstants\n",
    "\n",
    "sys.path.append(\"..\")"
   ]
  },
  {
   "cell_type": "code",
   "execution_count": null,
   "metadata": {},
   "outputs": [],
   "source": [
    "client = OpenAI(api_key=LLMConstants.OPENAI_API_KEY)"
   ]
  },
  {
   "cell_type": "markdown",
   "metadata": {
    "application/vnd.databricks.v1+cell": {
     "cellMetadata": {},
     "inputWidgets": {},
     "nuid": "7b1df19e-62a4-486c-8cd9-114c63c3b3d5",
     "showTitle": false,
     "tableResultSettingsMap": {},
     "title": ""
    }
   },
   "source": [
    "### Load graph and embeddings "
   ]
  },
  {
   "cell_type": "code",
   "execution_count": 0,
   "metadata": {
    "application/vnd.databricks.v1+cell": {
     "cellMetadata": {
      "byteLimit": 2048000,
      "rowLimit": 10000
     },
     "inputWidgets": {},
     "nuid": "5c2b1a8f-5961-4e3a-83ca-fe69152ae781",
     "showTitle": false,
     "tableResultSettingsMap": {},
     "title": ""
    }
   },
   "outputs": [],
   "source": [
    "def complete_message_with_4o(system_prompt, prompt, temperature=0.333, max_tokens=4096):\n",
    "    response = client.chat.completions.create(\n",
    "        model=\"gpt-4o\",\n",
    "        messages=[\n",
    "            { \"role\": \"system\", \"content\": system_prompt },\n",
    "            { \"role\": \"user\", \"content\": [ {\"type\": \"text\", \"text\": prompt} ] },\n",
    "        ],\n",
    "        temperature=temperature,\n",
    "        max_tokens=max_tokens,\n",
    "    )\n",
    "    return response.choices[0].message.content"
   ]
  },
  {
   "cell_type": "code",
   "execution_count": 0,
   "metadata": {
    "application/vnd.databricks.v1+cell": {
     "cellMetadata": {
      "byteLimit": 2048000,
      "rowLimit": 10000
     },
     "inputWidgets": {},
     "nuid": "b1f91929-d80b-463a-a5da-a19348bbfd2f",
     "showTitle": false,
     "tableResultSettingsMap": {},
     "title": ""
    },
    "scrolled": true
   },
   "outputs": [
    {
     "data": {
      "application/vnd.jupyter.widget-view+json": {
       "model_id": "fc527cf0574e460fa34910a6ebd3bed0",
       "version_major": 2,
       "version_minor": 0
      },
      "text/plain": [
       "tokenizer_config.json:   0%|          | 0.00/366 [00:00<?, ?B/s]"
      ]
     },
     "metadata": {},
     "output_type": "display_data"
    },
    {
     "data": {
      "application/vnd.jupyter.widget-view+json": {
       "model_id": "dba27a3dd807409e84cd8dffe0001eea",
       "version_major": 2,
       "version_minor": 0
      },
      "text/plain": [
       "vocab.txt:   0%|          | 0.00/232k [00:00<?, ?B/s]"
      ]
     },
     "metadata": {},
     "output_type": "display_data"
    },
    {
     "data": {
      "application/vnd.jupyter.widget-view+json": {
       "model_id": "205164a3a8c84662a82af04734f34e83",
       "version_major": 2,
       "version_minor": 0
      },
      "text/plain": [
       "tokenizer.json:   0%|          | 0.00/711k [00:00<?, ?B/s]"
      ]
     },
     "metadata": {},
     "output_type": "display_data"
    },
    {
     "data": {
      "application/vnd.jupyter.widget-view+json": {
       "model_id": "6ee9e7bc180f4caca9d8d4c450e35ea5",
       "version_major": 2,
       "version_minor": 0
      },
      "text/plain": [
       "special_tokens_map.json:   0%|          | 0.00/125 [00:00<?, ?B/s]"
      ]
     },
     "metadata": {},
     "output_type": "display_data"
    },
    {
     "data": {
      "application/vnd.jupyter.widget-view+json": {
       "model_id": "3fc9576727cc4c7694ae5b1a453d8662",
       "version_major": 2,
       "version_minor": 0
      },
      "text/plain": [
       "config.json:   0%|          | 0.00/779 [00:00<?, ?B/s]"
      ]
     },
     "metadata": {},
     "output_type": "display_data"
    },
    {
     "data": {
      "application/vnd.jupyter.widget-view+json": {
       "model_id": "7c5b6e38eea04837a53048c393913d29",
       "version_major": 2,
       "version_minor": 0
      },
      "text/plain": [
       "model.safetensors:   0%|          | 0.00/1.34G [00:00<?, ?B/s]"
      ]
     },
     "metadata": {},
     "output_type": "display_data"
    }
   ],
   "source": [
    "#Hugging Face repo\n",
    "repository_id = \"lamm-mit/GraphReasoning\"\n",
    "\n",
    "data_dir=\"./GRAPHDATA\"\n",
    "text_input_dir=\"./TEXT_INPUT/\"\n",
    "\n",
    "data_dir_output=\"./GRAPHDATA_OUTPUT/\"\n",
    "\n",
    "tokenizer_model=\"BAAI/bge-large-en-v1.5\"\n",
    "\n",
    "embedding_tokenizer = AutoTokenizer.from_pretrained(tokenizer_model, )\n",
    "embedding_model = AutoModel.from_pretrained(tokenizer_model, )\n",
    "\n",
    "graph_root = \"knowledgebasecomplete\"\n",
    "graph_text_file_name = \"knowledgebasecondensed_2024-11-30.txt\"\n",
    "graph_name=f'{data_dir}/{graph_root}_graphML.graphml'\n",
    "\n",
    "if os.path.exists(graph_name):\n",
    "    G = nx.read_graphml(graph_name)\n",
    "\n",
    "else:\n",
    "    with open(os.path.join(text_input_dir, graph_text_file_name), \"r\") as f:\n",
    "        text = f.read()\n",
    "        graph_HTML, graph_GraphML, G, net, _ = make_graph_from_text(\n",
    "            txt=text,\n",
    "            graph_root=graph_root,\n",
    "            generate=complete_message_with_4o,\n",
    "            data_dir=data_dir,\n",
    "            chunk_size=2500,\n",
    "        )"
   ]
  },
  {
   "cell_type": "code",
   "execution_count": 0,
   "metadata": {
    "application/vnd.databricks.v1+cell": {
     "cellMetadata": {
      "byteLimit": 2048000,
      "rowLimit": 10000
     },
     "inputWidgets": {},
     "nuid": "8f7d398d-b68f-46ed-b03f-59702e3054d2",
     "showTitle": false,
     "tableResultSettingsMap": {},
     "title": ""
    },
    "scrolled": true
   },
   "outputs": [],
   "source": [
    "embedding_file = f\"{graph_root}_embeddings_ge-large-en-v1.5.pkl\"\n",
    "embedding_path = f\"{data_dir}/{embedding_file}\"\n",
    "\n",
    "if os.path.exists(embedding_path):\n",
    "    node_embeddings = load_embeddings(embedding_path)\n",
    "\n",
    "else:\n",
    "    node_embeddings = generate_node_embeddings(G, embedding_tokenizer, embedding_model, )\n",
    "    save_embeddings(node_embeddings, embedding_path)"
   ]
  },
  {
   "cell_type": "code",
   "execution_count": 0,
   "metadata": {
    "application/vnd.databricks.v1+cell": {
     "cellMetadata": {
      "byteLimit": 2048000,
      "rowLimit": 10000
     },
     "inputWidgets": {},
     "nuid": "ebfee037-521b-42d1-a096-cf75e39e5cc5",
     "showTitle": false,
     "tableResultSettingsMap": {},
     "title": ""
    },
    "scrolled": true
   },
   "outputs": [
    {
     "name": "stdout",
     "output_type": "stream",
     "text": [
      "0nth best fitting node for 'parkinson's disease': 'parkinson's disease' with similarity: 1\n",
      "0nth best fitting node for 'treatment groups': 'treatment groups' with similarity: 1\n",
      "Warning: When  cdn_resources is 'local' jupyter notebook has issues displaying graphics on chrome/safari. Use cdn_resources='in_line' or cdn_resources='remote' if you have issues viewing graphics in a notebook.\n",
      "./GRAPHDATA_OUTPUT//shortest_path_2hops_parkinson's disease_treatment groups.html\n",
      "HTML visualization: ./GRAPHDATA_OUTPUT//shortest_path_2hops_parkinson's disease_treatment groups.html\n",
      "GraphML file: ./GRAPHDATA_OUTPUT//shortestpath_2hops_parkinson's disease_treatment groups.graphml\n",
      "You are given a set of information from a graph that describes the relationship \n",
      "               between materials, structure, properties, and properties. You analyze these logically \n",
      "               through reasoning.\n",
      "\n",
      "### Consider this list of nodes and relations in a knowledge graph:\n",
      "\n",
      "Format: node_1, relationship, node_2\n",
      "\n",
      "The data is:\n",
      "\n",
      "mds-updrs iii score, Change in, placebo\n",
      "phase 3 trial in the uk, is repurposed in, exenatide\n",
      "drug development pipeline, robust for, parkinson's disease\n",
      "prevalence, doubling, parkinson's disease\n",
      "microbiome, role in development of, parkinson's disease\n",
      "increase, is expected to, parkinson's disease\n",
      "placebo, compared to, exenatide\n",
      "placebo, compared, meta-analysis\n",
      "placebo, treated with, patients\n",
      "placebo, is, control group\n",
      "placebo, is compared with, treatment groups\n",
      "synucleinopathies, is involved in, alpha-synuclein\n",
      "synucleinopathies, cause, neurodegeneration\n",
      "synucleinopathies, related to, parkinson's disease\n",
      "condition, is, parkinson's disease\n",
      "neurodegeneration, from, genetics\n",
      "neurodegeneration, involves, parkinson's disease\n",
      "adenosine receptor antagonists, treat, parkinson's disease\n",
      "alpha-synuclein, is involved in,related to, parkinson's disease\n",
      "neurodegenerative disease, includes, parkinson's disease\n",
      "meta-analysis, included, patients\n",
      "clinical trial, condition, parkinson's disease\n",
      "symptoms, has, parkinson's disease\n",
      "diagnosis and treatment, Involves, alzheimer's disease\n",
      "diagnosis and treatment, review of, parkinson's disease\n",
      "mitochondrial dysfunction, is involved in, parkinson's disease\n",
      "alpha-synuclein knockdown, potential therapy for, parkinson's disease\n",
      "carbazole-based dopamine agonists, potentially treat, parkinson's disease\n",
      "randomized clinical trial, evaluates, parkinson's disease\n",
      "genetic and sporadic forms, has, parkinson's disease\n",
      "neurodegenerative diseases, includes, alzheimer's disease\n",
      "neurodegenerative diseases, related to, causes\n",
      "neurodegenerative diseases, have, hallmarks\n",
      "neurodegenerative diseases, includes, parkinson's disease\n",
      "epidemiology and etiology, study, parkinson's disease\n",
      "mechanisms and models, explain, parkinson's disease\n",
      "neuroinflammatory process, Accompanies, parkinson's disease\n",
      "technical brief, entitled, parkinson's disease\n",
      "multisystem disorder, is, parkinson's disease\n",
      "azathioprine, slows progression of, parkinson's disease\n",
      "biomarkers, identified by, alzheimer's disease\n",
      "biomarkers, important for assessing, parkinson's disease\n",
      "motor complications, prevention of, parkinson's disease\n",
      "clinical features, has, parkinson's disease\n",
      "creatine, used in clinical trial for, parkinson's disease\n",
      "glycogen synthase kinase-3 inhibitors, treat, parkinson's disease\n",
      "immunomodulatory therapies, halt degenerative disease, parkinson's disease\n",
      "immunomodulatory therapies, target, neuroinflammation\n",
      "global impact, increasing, parkinson's disease\n",
      "halli-tierney ad, studies, parkinson's disease\n",
      "tozadenant, used in patients with, parkinson's disease\n",
      "parkinson's disease, developing for, adenosine a2a antagonists\n",
      "parkinson's disease, treat,related to, adenosine a2a receptor antagonists\n",
      "parkinson's disease, targeting focus of, alpha-synuclein pathology\n",
      "parkinson's disease, compared with, alzheimer's disease\n",
      "parkinson's disease, focuses on, australian parkinson’s mission\n",
      "parkinson's disease, reviews, beitz jm\n",
      "parkinson's disease, used in management of, carbidopa/levodopa/entacapone (stalevo)\n",
      "parkinson's disease, are for, current and experimental treatments\n",
      "parkinson's disease, studies, dickson, d.w.\n",
      "parkinson's disease, has,related to, drug therapies\n",
      "parkinson's disease, treats, exenatide\n",
      "parkinson's disease, related to, gene therapy\n",
      "parkinson's disease, influences, genetics\n",
      "parkinson's disease, is a treatment for,is a neuroprotective and therapeutic strategy for, immunomodulation\n",
      "parkinson's disease, treatment for, istradefylline\n",
      "parkinson's disease, treated with, mao-b inhibitors\n",
      "parkinson's disease, used in clinical trial for, minocycline\n",
      "parkinson's disease, is involved in, mitophagy\n",
      "parkinson's disease, used for, mptp model\n",
      "parkinson's disease, is a mechanism for, neuroinflammation\n",
      "parkinson's disease, for, novel targeted therapies\n",
      "parkinson's disease, contributes to,is involved in, oxidative stress\n",
      "parkinson's disease, caused, 329,000 deaths\n",
      "parkinson's disease, related to, advances in treatment\n",
      "parkinson's disease, not well understood, causes\n",
      "parkinson's disease, in, clinical trial pipeline\n",
      "parkinson's disease, requires, diagnosis\n",
      "parkinson's disease, results in, disability-adjusted life years\n",
      "parkinson's disease, has, hallmarks\n",
      "parkinson's disease, is, neurodegenerative condition\n",
      "parkinson's disease, First approach to be tested with ARV-102, protac approach\n",
      "parkinson's disease, understands through genetics and new therapies, uwishema o\n",
      "parkinson's disease, related to, α-synuclein\n",
      "placebo groups, compare with, treatment groups\n",
      "drug therapies, in, clinical trial pipeline\n",
      "alzheimer's disease, contributes to, oxidative stress\n",
      "oxidative stress, connected to, neuroinflammation\n",
      "\n",
      "These are from a knowledge graph between parkinson's disease and treatment groups.\n",
      "\n",
      "### Develop a new research idea on a new drug that can help mitigate Parkinson desease.\n"
     ]
    },
    {
     "data": {
      "text/markdown": [
       "**Response:** Based on the provided knowledge graph and the relationships between various nodes, a new research idea for a drug to mitigate Parkinson's disease could focus on targeting the neuroinflammatory processes and oxidative stress, which are both implicated in the progression of Parkinson's disease. \n",
       "\n",
       "### Research Idea: Development of a Dual-Action Drug Targeting Neuroinflammation and Oxidative Stress in Parkinson's Disease\n",
       "\n",
       "#### Background:\n",
       "1. **Neuroinflammation and Parkinson's Disease**: Neuroinflammatory processes accompany Parkinson's disease and contribute to its progression (neuroinflammatory process, accompanies, Parkinson's disease).\n",
       "2. **Oxidative Stress and Parkinson's Disease**: Oxidative stress is involved in Parkinson's disease and is connected to neuroinflammation (Parkinson's disease, contributes to, oxidative stress; oxidative stress, connected to, neuroinflammation).\n",
       "3. **Immunomodulatory Therapies**: Immunomodulatory therapies can halt degenerative diseases like Parkinson's disease by targeting neuroinflammation (immunomodulatory therapies, halt degenerative disease, Parkinson's disease; immunomodulatory therapies, target, neuroinflammation).\n",
       "\n",
       "#### Hypothesis:\n",
       "A drug that combines immunomodulatory properties with antioxidant capabilities could effectively reduce neuroinflammation and oxidative stress, thereby slowing the progression of Parkinson's disease.\n",
       "\n",
       "#### Proposed Drug: **NeuroImmunoX**\n",
       "\n",
       "**NeuroImmunoX** is a novel dual-action drug designed to mitigate Parkinson's disease by:\n",
       "1. **Reducing Neuroinflammation**: Utilizing immunomodulatory agents to decrease the inflammatory response in the brain.\n",
       "2. **Combating Oxidative Stress**: Incorporating potent antioxidants to neutralize free radicals and reduce oxidative damage.\n",
       "\n",
       "#### Mechanism of Action:\n",
       "1. **Immunomodulatory Component**: \n",
       "   - **Target**: Neuroinflammatory pathways, specifically targeting pro-inflammatory cytokines and microglial activation.\n",
       "   - **Action**: Inhibits the release of pro-inflammatory cytokines (e.g., TNF-α, IL-1β) and reduces microglial activation, thereby decreasing neuroinflammation.\n",
       "\n",
       "2. **Antioxidant Component**:\n",
       "   - **Target**: Reactive oxygen species (ROS) and oxidative stress markers.\n",
       "   - **Action**: Scavenges free radicals and upregulates endogenous antioxidant defenses (e.g., superoxide dismutase, glutathione), reducing oxidative stress.\n",
       "\n",
       "#### Research Plan:\n",
       "1. **Preclinical Studies**:\n",
       "   - **In Vitro**: Test the efficacy of NeuroImmunoX on cultured neuronal cells and microglia to assess its ability to reduce neuroinflammation and oxidative stress.\n",
       "   - **In Vivo**: Use animal models of Parkinson's disease (e.g., MPTP model) to evaluate the drug's neuroprotective effects, focusing on behavioral outcomes, neuroinflammatory markers, and oxidative stress levels.\n",
       "\n",
       "2. **Clinical Trials**:\n",
       "   - **Phase I**: Assess the safety, tolerability, and pharmacokinetics of NeuroImmunoX in healthy volunteers.\n",
       "   - **Phase II**: Evaluate the efficacy and safety of NeuroImmunoX in patients with early-stage Parkinson's disease, with primary endpoints including reduction in neuroinflammatory markers and oxidative stress levels.\n",
       "   - **Phase III**: Conduct a larger, randomized, placebo-controlled trial to confirm the efficacy of NeuroImmunoX in slowing disease progression and improving clinical outcomes in Parkinson's disease patients.\n",
       "\n",
       "#### Expected Outcomes:\n",
       "- **Reduction in Neuroinflammation**: Decreased levels of pro-inflammatory cytokines and reduced microglial activation in the brain.\n",
       "- **Lower Oxidative Stress**: Reduced ROS levels and increased activity of endogenous antioxidant enzymes.\n",
       "- **Improved Clinical Outcomes**: Slower progression of motor and non-motor symptoms of Parkinson's disease, improved quality of life, and reduced disability-adjusted life years (DALYs).\n",
       "\n",
       "By targeting both neuroinflammation and oxidative stress, NeuroImmunoX has the potential to provide a comprehensive therapeutic approach to mitigate the progression of Parkinson's disease and improve patient outcomes."
      ],
      "text/plain": [
       "<IPython.core.display.Markdown object>"
      ]
     },
     "metadata": {},
     "output_type": "display_data"
    },
    {
     "data": {
      "text/markdown": [
       "Based on the provided knowledge graph and the relationships between various nodes, a new research idea for a drug to mitigate Parkinson's disease could focus on targeting the neuroinflammatory processes and oxidative stress, which are both implicated in the progression of Parkinson's disease. \n",
       "\n",
       "### Research Idea: Development of a Dual-Action Drug Targeting Neuroinflammation and Oxidative Stress in Parkinson's Disease\n",
       "\n",
       "#### Background:\n",
       "1. **Neuroinflammation and Parkinson's Disease**: Neuroinflammatory processes accompany Parkinson's disease and contribute to its progression (neuroinflammatory process, accompanies, Parkinson's disease).\n",
       "2. **Oxidative Stress and Parkinson's Disease**: Oxidative stress is involved in Parkinson's disease and is connected to neuroinflammation (Parkinson's disease, contributes to, oxidative stress; oxidative stress, connected to, neuroinflammation).\n",
       "3. **Immunomodulatory Therapies**: Immunomodulatory therapies can halt degenerative diseases like Parkinson's disease by targeting neuroinflammation (immunomodulatory therapies, halt degenerative disease, Parkinson's disease; immunomodulatory therapies, target, neuroinflammation).\n",
       "\n",
       "#### Hypothesis:\n",
       "A drug that combines immunomodulatory properties with antioxidant capabilities could effectively reduce neuroinflammation and oxidative stress, thereby slowing the progression of Parkinson's disease.\n",
       "\n",
       "#### Proposed Drug: **NeuroImmunoX**\n",
       "\n",
       "**NeuroImmunoX** is a novel dual-action drug designed to mitigate Parkinson's disease by:\n",
       "1. **Reducing Neuroinflammation**: Utilizing immunomodulatory agents to decrease the inflammatory response in the brain.\n",
       "2. **Combating Oxidative Stress**: Incorporating potent antioxidants to neutralize free radicals and reduce oxidative damage.\n",
       "\n",
       "#### Mechanism of Action:\n",
       "1. **Immunomodulatory Component**: \n",
       "   - **Target**: Neuroinflammatory pathways, specifically targeting pro-inflammatory cytokines and microglial activation.\n",
       "   - **Action**: Inhibits the release of pro-inflammatory cytokines (e.g., TNF-α, IL-1β) and reduces microglial activation, thereby decreasing neuroinflammation.\n",
       "\n",
       "2. **Antioxidant Component**:\n",
       "   - **Target**: Reactive oxygen species (ROS) and oxidative stress markers.\n",
       "   - **Action**: Scavenges free radicals and upregulates endogenous antioxidant defenses (e.g., superoxide dismutase, glutathione), reducing oxidative stress.\n",
       "\n",
       "#### Research Plan:\n",
       "1. **Preclinical Studies**:\n",
       "   - **In Vitro**: Test the efficacy of NeuroImmunoX on cultured neuronal cells and microglia to assess its ability to reduce neuroinflammation and oxidative stress.\n",
       "   - **In Vivo**: Use animal models of Parkinson's disease (e.g., MPTP model) to evaluate the drug's neuroprotective effects, focusing on behavioral outcomes, neuroinflammatory markers, and oxidative stress levels.\n",
       "\n",
       "2. **Clinical Trials**:\n",
       "   - **Phase I**: Assess the safety, tolerability, and pharmacokinetics of NeuroImmunoX in healthy volunteers.\n",
       "   - **Phase II**: Evaluate the efficacy and safety of NeuroImmunoX in patients with early-stage Parkinson's disease, with primary endpoints including reduction in neuroinflammatory markers and oxidative stress levels.\n",
       "   - **Phase III**: Conduct a larger, randomized, placebo-controlled trial to confirm the efficacy of NeuroImmunoX in slowing disease progression and improving clinical outcomes in Parkinson's disease patients.\n",
       "\n",
       "#### Expected Outcomes:\n",
       "- **Reduction in Neuroinflammation**: Decreased levels of pro-inflammatory cytokines and reduced microglial activation in the brain.\n",
       "- **Lower Oxidative Stress**: Reduced ROS levels and increased activity of endogenous antioxidant enzymes.\n",
       "- **Improved Clinical Outcomes**: Slower progression of motor and non-motor symptoms of Parkinson's disease, improved quality of life, and reduced disability-adjusted life years (DALYs).\n",
       "\n",
       "By targeting both neuroinflammation and oxidative stress, NeuroImmunoX has the potential to provide a comprehensive therapeutic approach to mitigate the progression of Parkinson's disease and improve patient outcomes."
      ],
      "text/plain": [
       "<IPython.core.display.Markdown object>"
      ]
     },
     "metadata": {},
     "output_type": "display_data"
    }
   ],
   "source": [
    "response, (best_node_1, best_similarity_1, best_node_2, best_similarity_2), path, path_graph, shortest_path_length, fname, graph_GraphML = find_path_and_reason(\n",
    "    G,\n",
    "    node_embeddings,\n",
    "    embedding_tokenizer,\n",
    "    embedding_model,\n",
    "    complete_message_with_4o,\n",
    "    data_dir=data_dir_output,\n",
    "    verbatim=True,\n",
    "    include_keywords_as_nodes=True,  # Include keywords in the graph analysis\n",
    "    keyword_1=\"parkinson's disease\",\n",
    "    keyword_2=\"treatment groups\",\n",
    "    N_limit=9999,  # The limit for keywords, triplets, etc.\n",
    "    instruction='Develop a new research idea on a new drug that can help mitigate Parkinson desease.',\n",
    "    keywords_separator=', ',\n",
    "    graph_analysis_type='nodes and relations',\n",
    "    temperature=0.3,\n",
    "    inst_prepend='### ',  # Instruction prepend text\n",
    "    prepend='''You are given a set of information from a graph that describes the relationship \n",
    "               between materials, structure, properties, and properties. You analyze these logically \n",
    "               through reasoning.\\n\\n''',  # Prepend text for analysis\n",
    "    visualize_paths_as_graph=True,  # Whether to visualize paths as a graph\n",
    "    display_graph=True,  # Whether to display the graph\n",
    ")\n",
    "display(Markdown(response))"
   ]
  }
 ],
 "metadata": {
  "application/vnd.databricks.v1+notebook": {
   "computePreferences": null,
   "dashboards": [],
   "environmentMetadata": null,
   "language": "python",
   "notebookMetadata": {
    "pythonIndentUnit": 2
   },
   "notebookName": "Build graph and Graph Reasoning with custom graph",
   "widgets": {}
  },
  "kernelspec": {
   "display_name": "Python 3 (ipykernel)",
   "language": "python",
   "name": "python3"
  },
  "language_info": {
   "name": "python"
  }
 },
 "nbformat": 4,
 "nbformat_minor": 0
}
