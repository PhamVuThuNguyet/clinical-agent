{
 "cells": [
  {
   "cell_type": "code",
   "execution_count": 1,
   "metadata": {},
   "outputs": [],
   "source": [
    "import pandas as pd\n",
    "from xml.etree import ElementTree as ET\n",
    "from tqdm import tqdm \n",
    "from collections import defaultdict \n",
    "import json"
   ]
  },
  {
   "cell_type": "code",
   "execution_count": 2,
   "metadata": {},
   "outputs": [],
   "source": [
    "xml_file = \"./data/full database.xml\"\n",
    "\n",
    "tree = ET.parse(xml_file)\n",
    "root = tree.getroot()"
   ]
  },
  {
   "cell_type": "code",
   "execution_count": 3,
   "metadata": {},
   "outputs": [
    {
     "name": "stderr",
     "output_type": "stream",
     "text": [
      "15235it [00:13, 1154.45it/s]\n"
     ]
    }
   ],
   "source": [
    "ns = '{http://www.drugbank.ca}'\n",
    "\n",
    "drug_info_list = []\n",
    "name_synonyms = defaultdict(list)\n",
    "\n",
    "for i, drug in tqdm(enumerate(root)):\n",
    "    name = drug.findtext(ns + \"name\").strip().lower()\n",
    "    synonyms_obj = drug.findall(f\"{ns}synonyms/{ns}synonym[@language='english']\")\n",
    "    synonyms = [synonym.text.strip().lower() for synonym in synonyms_obj]\n",
    "\n",
    "    name_set = set(synonyms)\n",
    "    name_set.add(name)\n",
    "\n",
    "    for name in name_set:\n",
    "        name_synonyms[name].extend(name_set)\n",
    "\n",
    "    dbid = drug.findtext(ns + \"drugbank-id[@primary='true']\")\n",
    "\n",
    "    description = drug.findtext(f\"{ns}description\")\n",
    "    indication = drug.findtext(f\"{ns}indication\")\n",
    "    smiles = drug.findtext(f\"{ns}calculated-properties/{ns}property[{ns}kind='SMILES']/{ns}value\")\n",
    "\n",
    "    absorption = drug.findtext(f\"{ns}absorption\")\n",
    "    distribution = drug.findtext(f\"{ns}volume-of-distribution\")\n",
    "    metabolism = drug.findtext(f\"{ns}metabolism\")\n",
    "    excretion = drug.findtext(f\"{ns}route-of-elimination\")\n",
    "    toxicity = drug.findtext(f\"{ns}toxicity\")\n",
    "\n",
    "    info_tuple = (dbid, description, indication, smiles, absorption, distribution, metabolism, excretion, toxicity)\n",
    "\n",
    "    for name in name_set:\n",
    "        drug_info_list.append((name, *info_tuple))"
   ]
  },
  {
   "cell_type": "code",
   "execution_count": 4,
   "metadata": {},
   "outputs": [],
   "source": [
    "json.dump(name_synonyms, open(\"data/name_synonyms.json\", \"w\"))\n",
    "drug_df = pd.DataFrame(drug_info_list, columns=[\"name\", \"dbid\", \"description\", \"indication\", \"smiles\", \"absorption\", \"distribution\", \"metabolism\", \"excretion\", \"toxicity\"])\n",
    "drug_df.to_csv(\"data/drugbank.csv\", index=False, sep='\\t')"
   ]
  }
 ],
 "metadata": {
  "kernelspec": {
   "display_name": "clinical-agent",
   "language": "python",
   "name": "python3"
  },
  "language_info": {
   "codemirror_mode": {
    "name": "ipython",
    "version": 3
   },
   "file_extension": ".py",
   "mimetype": "text/x-python",
   "name": "python",
   "nbconvert_exporter": "python",
   "pygments_lexer": "ipython3",
   "version": "3.10.11"
  }
 },
 "nbformat": 4,
 "nbformat_minor": 2
}
